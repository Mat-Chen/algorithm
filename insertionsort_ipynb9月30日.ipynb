{
  "nbformat": 4,
  "nbformat_minor": 0,
  "metadata": {
    "colab": {
      "name": "「insertionsort.ipynb」的副本",
      "provenance": [],
      "collapsed_sections": [],
      "include_colab_link": true
    },
    "kernelspec": {
      "name": "python3",
      "display_name": "Python 3"
    }
  },
  "cells": [
    {
      "cell_type": "markdown",
      "metadata": {
        "id": "view-in-github",
        "colab_type": "text"
      },
      "source": [
        "<a href=\"https://colab.research.google.com/github/Mat-Chen/algorithm/blob/master/insertionsort_ipynb9%E6%9C%8830%E6%97%A5.ipynb\" target=\"_parent\"><img src=\"https://colab.research.google.com/assets/colab-badge.svg\" alt=\"Open In Colab\"/></a>"
      ]
    },
    {
      "cell_type": "markdown",
      "metadata": {
        "id": "j95w6SLwOC0z"
      },
      "source": [
        "Insertion sort (插入排序)"
      ]
    },
    {
      "cell_type": "code",
      "metadata": {
        "id": "BxBaYEwzNj_v",
        "outputId": "fc66f947-81ca-4a81-d748-e1c170250873",
        "colab": {
          "base_uri": "https://localhost:8080/",
          "height": 202
        }
      },
      "source": [
        "#下面這兩個def都可以用來做插入排序，其實可以刪掉其中一個\n",
        "\n",
        "def Insertion_Sort(datas):\n",
        "    for i in range(1, len(datas)):  #i從1算到i-1\n",
        "        for j in range(i):     #j從0算到i-2\n",
        "            current = datas[i]   #當前的數會是在datas裡i的位子\n",
        "            if current < datas[j]:    #如果當前的數大於j位子上的數，就執行下面那行，讓他們位子不變，繼續比較下一個數\n",
        "                for k in range(i,j):  \n",
        "                  print(datas)      \n",
        "    return datas\n",
        "                              #有3個for，執行次數應該是...(n-1)(n-2)n吧...\n",
        "def insertionSort(arr):\n",
        "    for i in range(len(arr)): #i從0算到i-1\n",
        "        preIndex = i-1   #前一個位子\n",
        "        current = arr[i]  #現在的位子\n",
        "        while preIndex >= 0 and arr[preIndex] > current: \n",
        "            arr[preIndex+1] = arr[preIndex]\n",
        "            preIndex-=1\n",
        "        arr[preIndex+1] = current   #經過上面的比較後，把大於current的arr[0..i-1]元素移到現在位置之前的一個位置\n",
        "        print(arr)\n",
        "    return arr\n",
        "                          #只有一個for，執行次數是n-1\n",
        "if __name__ == '__main__':\n",
        "    import random\n",
        "    a = list(range(10))\n",
        "    random.shuffle(a)\n",
        "    b = a.copy()     #輸出這行[9, 7, 1, 5, 8, 2, 6, 3, 4, 0]\n",
        "\n",
        "    arr = insertionSort(a)  #用插入排序輸出剩下那幾行\n",
        "    print('---'*10)       \n",
        "    Insertion_Sort(b)"
      ],
      "execution_count": 2,
      "outputs": [
        {
          "output_type": "stream",
          "text": [
            "[9, 7, 1, 5, 8, 2, 6, 3, 4, 0]\n",
            "[7, 9, 1, 5, 8, 2, 6, 3, 4, 0]\n",
            "[1, 7, 9, 5, 8, 2, 6, 3, 4, 0]\n",
            "[1, 5, 7, 9, 8, 2, 6, 3, 4, 0]\n",
            "[1, 5, 7, 8, 9, 2, 6, 3, 4, 0]\n",
            "[1, 2, 5, 7, 8, 9, 6, 3, 4, 0]\n",
            "[1, 2, 5, 6, 7, 8, 9, 3, 4, 0]\n",
            "[1, 2, 3, 5, 6, 7, 8, 9, 4, 0]\n",
            "[1, 2, 3, 4, 5, 6, 7, 8, 9, 0]\n",
            "[0, 1, 2, 3, 4, 5, 6, 7, 8, 9]\n",
            "------------------------------\n"
          ],
          "name": "stdout"
        }
      ]
    }
  ]
}