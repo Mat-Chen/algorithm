{
  "nbformat": 4,
  "nbformat_minor": 0,
  "metadata": {
    "colab": {
      "name": "12月2日.ipynb",
      "provenance": [],
      "collapsed_sections": [],
      "authorship_tag": "ABX9TyMRyek7IfURu9jbZpFwXu+/",
      "include_colab_link": true
    },
    "kernelspec": {
      "name": "python3",
      "display_name": "Python 3"
    }
  },
  "cells": [
    {
      "cell_type": "markdown",
      "metadata": {
        "id": "view-in-github",
        "colab_type": "text"
      },
      "source": [
        "<a href=\"https://colab.research.google.com/github/Mat-Chen/algorithm/blob/master/12%E6%9C%882%E6%97%A5.ipynb\" target=\"_parent\"><img src=\"https://colab.research.google.com/assets/colab-badge.svg\" alt=\"Open In Colab\"/></a>"
      ]
    },
    {
      "cell_type": "code",
      "metadata": {
        "colab": {
          "base_uri": "https://localhost:8080/"
        },
        "id": "ZGho5BWKEDKb",
        "outputId": "9bb86cb9-d7a2-406d-d548-ca83c5f0f246"
      },
      "source": [
        "t=[25,20,5,1]\n",
        "def change(t,n):\n",
        "  m=[0 for _ in range(len(t))]\n",
        "  for i ,money in enumerate(t):\n",
        "   m[i] = n // money\n",
        "   n= n % money\n",
        "  return m,n\n",
        "\n",
        "print(change(t,41))"
      ],
      "execution_count": 6,
      "outputs": [
        {
          "output_type": "stream",
          "text": [
            "([1, 0, 3, 1], 0)\n"
          ],
          "name": "stdout"
        }
      ]
    },
    {
      "cell_type": "code",
      "metadata": {
        "colab": {
          "base_uri": "https://localhost:8080/"
        },
        "id": "NkYXVZDhMosE",
        "outputId": "08e9963f-1615-4e9f-e538-e39435c30aac"
      },
      "source": [
        "#解答\n",
        "\n",
        "t=[25,20,5,1]\n",
        "def change(t,n):\n",
        "  m=[0 for _ in range(len(t))]\n",
        "  for i ,money in enumerate(t):\n",
        "   m[i] = n // money\n",
        "   n= n % money\n",
        "  return m,n\n",
        "\n",
        "ic= input(\"錢:\")\n",
        "\n",
        "print(change(t,int(ic)))"
      ],
      "execution_count": 11,
      "outputs": [
        {
          "output_type": "stream",
          "text": [
            "錢:77\n",
            "([3, 0, 0, 2], 0)\n"
          ],
          "name": "stdout"
        }
      ]
    }
  ]
}