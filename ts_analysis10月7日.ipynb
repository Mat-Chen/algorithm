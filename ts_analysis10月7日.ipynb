{
  "nbformat": 4,
  "nbformat_minor": 0,
  "metadata": {
    "colab": {
      "name": "Untitled2.ipynb",
      "provenance": [],
      "collapsed_sections": [],
      "authorship_tag": "ABX9TyOce4tziQWSO7Iuo9ZV1Bxm",
      "include_colab_link": true
    },
    "kernelspec": {
      "name": "python3",
      "display_name": "Python 3"
    }
  },
  "cells": [
    {
      "cell_type": "markdown",
      "metadata": {
        "id": "view-in-github",
        "colab_type": "text"
      },
      "source": [
        "<a href=\"https://colab.research.google.com/github/Mat-Chen/algorithm/blob/master/ts_analysis10%E6%9C%887%E6%97%A5.ipynb\" target=\"_parent\"><img src=\"https://colab.research.google.com/assets/colab-badge.svg\" alt=\"Open In Colab\"/></a>"
      ]
    },
    {
      "cell_type": "code",
      "metadata": {
        "id": "B_hTTJa04uj2",
        "outputId": "e8917cd9-c268-48f3-95bc-bab45f797e6d",
        "colab": {
          "base_uri": "https://localhost:8080/"
        }
      },
      "source": [
        "#空間換時間\n",
        "year = int(input(\"輸入年份\"))\n",
        "if (year % 4) == 0:      \n",
        "   if (year % 100) == 0:\n",
        "       if (year % 400) == 0:\n",
        "           print(\"{0} 是閏年\".format(year))   # 整百年能被400整除的是閏年\n",
        "       else:\n",
        "           print(\"{0} 不是閏年\".format(year))\n",
        "   else:\n",
        "       print(\"{0} 是閏年\".format(year))       # 非整百年能被4整除的閏年\n",
        "else:\n",
        "   print(\"{0} 不是閏年\".format(year))"
      ],
      "execution_count": null,
      "outputs": [
        {
          "output_type": "stream",
          "text": [
            "輸入年份2040\n",
            "2040 是閏年\n"
          ],
          "name": "stdout"
        }
      ]
    },
    {
      "cell_type": "code",
      "metadata": {
        "id": "qd0anlUs8rXv",
        "outputId": "7255221f-c166-49b5-820e-38ff7af5f1c2",
        "colab": {
          "base_uri": "https://localhost:8080/"
        }
      },
      "source": [
        "#時間換空間\n",
        "list=[2000,2004,2008,2010,2012,2016,2020,2024,2028,2032,2036,2040]\n",
        "year = int(input(\"輸入年份\"))\n",
        "for i in range(0,11):  \n",
        "     if year in list:  #在list找有沒有一樣的數值\n",
        "       print(\"{0} 是閏年\".format(year))  #有的話就是閏年\n",
        "       break  #為了不讓它一直比對下去，比對到有的就停\n",
        "     else :\n",
        "       print(\"{0} 不是閏年\".format(year))\n",
        "       break\n",
        "       \n"
      ],
      "execution_count": null,
      "outputs": [
        {
          "output_type": "stream",
          "text": [
            "輸入年份2017\n",
            "2017 不是閏年\n"
          ],
          "name": "stdout"
        }
      ]
    }
  ]
}