{
  "nbformat": 4,
  "nbformat_minor": 0,
  "metadata": {
    "colab": {
      "name": "「selctionsort.ipynb」的副本",
      "provenance": [],
      "collapsed_sections": [],
      "include_colab_link": true
    },
    "kernelspec": {
      "name": "python3",
      "display_name": "Python 3"
    }
  },
  "cells": [
    {
      "cell_type": "markdown",
      "metadata": {
        "id": "view-in-github",
        "colab_type": "text"
      },
      "source": [
        "<a href=\"https://colab.research.google.com/github/Mat-Chen/algorithm/blob/master/selctionsort_ipynb9%E6%9C%8830%E6%97%A5.ipynb\" target=\"_parent\"><img src=\"https://colab.research.google.com/assets/colab-badge.svg\" alt=\"Open In Colab\"/></a>"
      ]
    },
    {
      "cell_type": "markdown",
      "metadata": {
        "id": "W-Z0kMaDLJOp"
      },
      "source": [
        "Selection sort (選擇排序)"
      ]
    },
    {
      "cell_type": "code",
      "metadata": {
        "id": "8tM3sv79HQ_V",
        "outputId": "a20dab97-3b33-407c-a730-4b95df8680e2",
        "colab": {
          "base_uri": "https://localhost:8080/",
          "height": 353
        }
      },
      "source": [
        "def Selction_Sort(datas):\n",
        "    for i in range(len(datas)-1): # 從0開始算到10-1=9，所以執行次數是n\n",
        "        min = i # 第一次選從第一個數開始,第二次從第二個數開始，找出最小的數\n",
        "        for j in range(i+1, len(datas)):    # 用記錄的max數與其他的比較，執行次數也是n\n",
        "            if datas[j] < datas[min]:  #比較剩下的數的大小\n",
        "                min = j\n",
        "                                #執行次數是n^2\n",
        "        datas[i], datas[min] = datas[min], datas[i] #位置交換，讓小的往前排\n",
        "\n",
        "        print(datas)\n",
        "        print('---'*10)\n",
        "    return datas\n",
        "\n",
        "\n",
        "if __name__ == '__main__':\n",
        "    import random    \n",
        "    a = list(range(10))\n",
        "    random.shuffle(a)  #讓0到9隨機排序\n",
        "    print(a)   #出現這行[5, 8, 4, 1, 0, 6, 2, 3, 9, 7]\n",
        "    a = Selction_Sort(a)  #讓0到9用選擇排序\n",
        "    print(a)  #出現之後那幾行"
      ],
      "execution_count": 2,
      "outputs": [
        {
          "output_type": "stream",
          "text": [
            "[5, 8, 4, 1, 0, 6, 2, 3, 9, 7]\n",
            "[0, 8, 4, 1, 5, 6, 2, 3, 9, 7]\n",
            "------------------------------\n",
            "[0, 1, 4, 8, 5, 6, 2, 3, 9, 7]\n",
            "------------------------------\n",
            "[0, 1, 2, 8, 5, 6, 4, 3, 9, 7]\n",
            "------------------------------\n",
            "[0, 1, 2, 3, 5, 6, 4, 8, 9, 7]\n",
            "------------------------------\n",
            "[0, 1, 2, 3, 4, 6, 5, 8, 9, 7]\n",
            "------------------------------\n",
            "[0, 1, 2, 3, 4, 5, 6, 8, 9, 7]\n",
            "------------------------------\n",
            "[0, 1, 2, 3, 4, 5, 6, 8, 9, 7]\n",
            "------------------------------\n",
            "[0, 1, 2, 3, 4, 5, 6, 7, 9, 8]\n",
            "------------------------------\n",
            "[0, 1, 2, 3, 4, 5, 6, 7, 8, 9]\n",
            "------------------------------\n",
            "[0, 1, 2, 3, 4, 5, 6, 7, 8, 9]\n"
          ],
          "name": "stdout"
        }
      ]
    },
    {
      "cell_type": "markdown",
      "metadata": {
        "id": "MiWPt8bALDN5"
      },
      "source": [
        "請加入註解\n"
      ]
    }
  ]
}