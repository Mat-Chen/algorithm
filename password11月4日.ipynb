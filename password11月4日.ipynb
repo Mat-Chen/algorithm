{
  "nbformat": 4,
  "nbformat_minor": 0,
  "metadata": {
    "colab": {
      "name": "password11月4日.ipynb",
      "provenance": [],
      "collapsed_sections": [],
      "authorship_tag": "ABX9TyMCm0T10rfKnrMY/Cpt1nZD",
      "include_colab_link": true
    },
    "kernelspec": {
      "name": "python3",
      "display_name": "Python 3"
    }
  },
  "cells": [
    {
      "cell_type": "markdown",
      "metadata": {
        "id": "view-in-github",
        "colab_type": "text"
      },
      "source": [
        "<a href=\"https://colab.research.google.com/github/Mat-Chen/algorithm/blob/master/password11%E6%9C%884%E6%97%A5.ipynb\" target=\"_parent\"><img src=\"https://colab.research.google.com/assets/colab-badge.svg\" alt=\"Open In Colab\"/></a>"
      ]
    },
    {
      "cell_type": "code",
      "metadata": {
        "id": "LjXhqVwU134z",
        "outputId": "a7d5bb68-a772-4611-ff1d-bd4e30f87877",
        "colab": {
          "base_uri": "https://localhost:8080/"
        }
      },
      "source": [
        "from random import randint\n",
        " \n",
        "#規定範圍並產生密碼\n",
        "lowest = 1\n",
        "highest = 100\n",
        "answer = randint(lowest, highest)\n",
        " \n",
        "#重複猜數字，直到猜對為止\n",
        "while True:\n",
        "    guess = input('密碼介於 ' + str(lowest) + '-' + str(highest) + ':\\n>>')\n",
        " \n",
        "    #檢查輸入的內容是否為數字\n",
        "    try:   #try...except用於處理例外，如果輸入的不符合try`,就引發 except的ValueError\n",
        "        guess = int(guess)  #把字串轉換成整數\n",
        "    except ValueError:  #要求重新輸入數字\n",
        "        print('格式錯誤，請輸入數字\\n')\n",
        "        continue\n",
        " \n",
        "        #檢查輸入的數字是否介於規定範圍內\n",
        "    if guess <= lowest or guess >= highest:\n",
        "        print('請輸入 ' + str(lowest) + '-' + str(highest) + ' 之間的整數\\n')\n",
        "        continue\n",
        " \n",
        "        #判斷有沒有猜中密碼\n",
        "    if guess == answer:\n",
        "        print('答對了！')\n",
        "        break   #猜對才跳脫迴圈\n",
        "    elif guess < answer:\n",
        "        lowest = guess\n",
        "    else:\n",
        "        highest = guess"
      ],
      "execution_count": null,
      "outputs": [
        {
          "output_type": "stream",
          "text": [
            "密碼介於 1-100:\n",
            ">>50\n",
            "密碼介於 1-50:\n",
            ">>25\n",
            "密碼介於 25-50:\n",
            ">>30\n",
            "密碼介於 30-50:\n",
            ">>45\n",
            "密碼介於 30-45:\n",
            ">>41\n",
            "密碼介於 30-41:\n",
            ">>33\n",
            "答對了！\n"
          ],
          "name": "stdout"
        }
      ]
    }
  ]
}