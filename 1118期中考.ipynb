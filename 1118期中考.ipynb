{
  "nbformat": 4,
  "nbformat_minor": 0,
  "metadata": {
    "colab": {
      "name": "1118期中考.ipynb",
      "provenance": [],
      "collapsed_sections": [],
      "authorship_tag": "ABX9TyOS045KZB1vsQNeWol5nPSW",
      "include_colab_link": true
    },
    "kernelspec": {
      "name": "python3",
      "display_name": "Python 3"
    }
  },
  "cells": [
    {
      "cell_type": "markdown",
      "metadata": {
        "id": "view-in-github",
        "colab_type": "text"
      },
      "source": [
        "<a href=\"https://colab.research.google.com/github/Mat-Chen/algorithm/blob/master/1118%E6%9C%9F%E4%B8%AD%E8%80%83.ipynb\" target=\"_parent\"><img src=\"https://colab.research.google.com/assets/colab-badge.svg\" alt=\"Open In Colab\"/></a>"
      ]
    },
    {
      "cell_type": "code",
      "metadata": {
        "colab": {
          "base_uri": "https://localhost:8080/"
        },
        "id": "G1hHMWC0KwDX",
        "outputId": "44fee567-74b0-44d3-b0d6-92391f8b358e"
      },
      "source": [
        "#插入排序\n",
        "x=0\n",
        "def Insertion_Sort(datas):\n",
        "    for i in range(1, len(datas)):  #i從1算到i-1\n",
        "        for j in range(i):     #j從0算到i-2\n",
        "            current = datas[i]   #當前的數會是在datas裡i的位子\n",
        "            if current < datas[j]:    #如果當前的數大於j位子上的數，就執行下面那行，讓他們位子不變，繼續比較下一個數\n",
        "                for k in range(i,j): \n",
        "                  print(datas)      \n",
        "    return datas\n",
        "\n",
        "                              \n",
        "def insertionSort(arr):\n",
        "    global x\n",
        "    for i in range(len(arr)): #i從0算到i-1\n",
        "        preIndex = i-1   #前一個位子\n",
        "        current = arr[i]  #現在的位子\n",
        "        while preIndex >= 0 and arr[preIndex] > current: \n",
        "            arr[preIndex+1] = arr[preIndex]\n",
        "            preIndex-=1\n",
        "        arr[preIndex+1] = current   #經過上面的比較後，把大於current的arr[0..i-1]元素移到現在位置之前的一個位置\n",
        "        x=x+1  #用來計算排序了幾次\n",
        "        print(arr)\n",
        "        print(\"第%d次排序\"%(x))\n",
        "    return arr\n",
        "\n",
        "if __name__ == '__main__':   #讓檔案在被引用時，不該執行的程式碼不被執行\n",
        "    MAXNUM=8      #只要8個數字\n",
        "    data=[None]*MAXNUM   #定義data\n",
        "    import random\n",
        "    for i in range(MAXNUM):   #從一到一百裡隨機找8個數字出來\n",
        "      data[i]=random.randint(1,100)\n",
        "      \n",
        "    print(\"原始數列\")\n",
        "    a = list(data)  #把挑出的8個數字用成list\n",
        "    random.shuffle(a)  #隨機排序那8個數字\n",
        "    b = a.copy()     \n",
        "    \n",
        "    arr = insertionSort(a)  #用插入排序輸出剩下那幾行\n",
        "    print(a)       \n",
        "    Insertion_Sort(b)"
      ],
      "execution_count": 1,
      "outputs": [
        {
          "output_type": "stream",
          "text": [
            "原始數列\n",
            "[28, 32, 12, 23, 72, 13, 34, 40]\n",
            "第1次排序\n",
            "[28, 32, 12, 23, 72, 13, 34, 40]\n",
            "第2次排序\n",
            "[12, 28, 32, 23, 72, 13, 34, 40]\n",
            "第3次排序\n",
            "[12, 23, 28, 32, 72, 13, 34, 40]\n",
            "第4次排序\n",
            "[12, 23, 28, 32, 72, 13, 34, 40]\n",
            "第5次排序\n",
            "[12, 13, 23, 28, 32, 72, 34, 40]\n",
            "第6次排序\n",
            "[12, 13, 23, 28, 32, 34, 72, 40]\n",
            "第7次排序\n",
            "[12, 13, 23, 28, 32, 34, 40, 72]\n",
            "第8次排序\n",
            "[12, 13, 23, 28, 32, 34, 40, 72]\n"
          ],
          "name": "stdout"
        }
      ]
    },
    {
      "cell_type": "code",
      "metadata": {
        "colab": {
          "base_uri": "https://localhost:8080/"
        },
        "id": "3cF0C4-iLQI9",
        "outputId": "e5a1f7fd-8de9-4c0e-aab1-21652e0cfa44"
      },
      "source": [
        "#選擇排序\n",
        "x=0\n",
        "def Selction_Sort(datas):\n",
        "    global x\n",
        "    for i in range(len(datas)-1): # 從0開始算到10-1=9，所以執行次數是n\n",
        "        max = i # 第一次選從第一個數開始,第二次從第二個數開始，找出最大的數\n",
        "        for j in range(i+1, len(datas)):    # 用記錄的max數與其他的比較，執行次數也是n\n",
        "            if datas[j] > datas[max]:  #比較剩下的數的大小，因為是大到小，所以是>\n",
        "                max = j\n",
        "        datas[i], datas[max] = datas[max], datas[i] #位置交換，讓大的往前排\n",
        "        x=x+1  #用來計算排序了幾次\n",
        "        print(\"第%d次排序\"%(x))  \n",
        "        print(datas)\n",
        "    return datas\n",
        "\n",
        "\n",
        "if __name__ == '__main__':   #讓檔案在被引用時，不該執行的程式碼不被執行\n",
        "    MAXNUM=8   #只要8個數字\n",
        "    data=[None]*MAXNUM  #定義data\n",
        "    import random\n",
        "    for i in range(MAXNUM):   #從一到一百裡隨機找8個數字出來\n",
        "      data[i]=random.randint(1,100)\n",
        "    a = list(data)   #把挑出的8個數字用成list\n",
        "    random.shuffle(a)   #隨機排序那8個數字\n",
        "    b = a.copy() \n",
        "\n",
        "    print(\"原始數列\")\n",
        "    print(data)\n",
        "    a = Selction_Sort(a)  #用選擇排序輸出剩下那幾行\n",
        "     "
      ],
      "execution_count": null,
      "outputs": [
        {
          "output_type": "stream",
          "text": [
            "原始數列\n",
            "[88, 36, 83, 85, 27, 94, 46, 86]\n",
            "第1次排序\n",
            "[94, 36, 46, 86, 88, 85, 83, 27]\n",
            "第2次排序\n",
            "[94, 88, 46, 86, 36, 85, 83, 27]\n",
            "第3次排序\n",
            "[94, 88, 86, 46, 36, 85, 83, 27]\n",
            "第4次排序\n",
            "[94, 88, 86, 85, 36, 46, 83, 27]\n",
            "第5次排序\n",
            "[94, 88, 86, 85, 83, 46, 36, 27]\n",
            "第6次排序\n",
            "[94, 88, 86, 85, 83, 46, 36, 27]\n",
            "第7次排序\n",
            "[94, 88, 86, 85, 83, 46, 36, 27]\n"
          ],
          "name": "stdout"
        }
      ]
    }
  ]
}