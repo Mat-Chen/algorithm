{
  "nbformat": 4,
  "nbformat_minor": 0,
  "metadata": {
    "colab": {
      "name": "1202.ipynb",
      "provenance": [],
      "collapsed_sections": [],
      "authorship_tag": "ABX9TyNEG9LdgarHQ14+30qzImMj",
      "include_colab_link": true
    },
    "kernelspec": {
      "name": "python3",
      "display_name": "Python 3"
    }
  },
  "cells": [
    {
      "cell_type": "markdown",
      "metadata": {
        "id": "view-in-github",
        "colab_type": "text"
      },
      "source": [
        "<a href=\"https://colab.research.google.com/github/Mat-Chen/algorithm/blob/master/1202.ipynb\" target=\"_parent\"><img src=\"https://colab.research.google.com/assets/colab-badge.svg\" alt=\"Open In Colab\"/></a>"
      ]
    },
    {
      "cell_type": "code",
      "metadata": {
        "colab": {
          "base_uri": "https://localhost:8080/"
        },
        "id": "NkYXVZDhMosE",
        "outputId": "08e9963f-1615-4e9f-e538-e39435c30aac"
      },
      "source": [
        "#貪婪法解答\n",
        "\n",
        "t=[25,20,5,1]\n",
        "def change(t,n):\n",
        "  m=[0 for _ in range(len(t))]\n",
        "  for i ,money in enumerate(t):\n",
        "   m[i] = n // money\n",
        "   n= n % money\n",
        "  return m,n\n",
        "\n",
        "ic= input(\"錢:\")\n",
        "\n",
        "print(change(t,int(ic)))"
      ],
      "execution_count": null,
      "outputs": [
        {
          "output_type": "stream",
          "text": [
            "錢:77\n",
            "([3, 0, 0, 2], 0)\n"
          ],
          "name": "stdout"
        }
      ]
    },
    {
      "cell_type": "code",
      "metadata": {
        "colab": {
          "base_uri": "https://localhost:8080/"
        },
        "id": "3U3g0xq-bk-e",
        "outputId": "0d296e41-0fbf-41b3-a773-263307ad895b"
      },
      "source": [
        "#DP法解答\n",
        "V = 41\t\t\t\t# money\n",
        "n = 4 \t\t\t\t# number of different coins\n",
        "coinValue = [25, 20, 5, 1]  # value of each coin\n",
        "\n",
        "\n",
        "# Creates a list containing V+1 objects\n",
        "memo = [-1 for x in range(V+1)] \n",
        "\n",
        "# recursion conditions:\n",
        "# 1- change(0) = 0 -> is needed 0 coins to change 0 cents\n",
        "# 2- change(< 0) = inf -> this change is too much \n",
        "# 3- change(value) = 1 + min(change(value - coinValue[i])) for i in range(n-1)\n",
        "\n",
        "\n",
        "def change(value):\n",
        "\tif memo[value] != -1:\t\t\t# checking if alredy pass by this state \n",
        "\t\treturn memo[value]\n",
        "\n",
        "\tif value == 0: \t\t\t\t\t# recursion condition 1\n",
        "\t\treturn 0\n",
        "\n",
        "\tif value < 0:\t\t\t\t\t#recursion condition 2\n",
        "\t\treturn float('inf')\n",
        "\n",
        "\tans = float('inf')\n",
        "\n",
        "\tfor i in range(n):\t\t\t# recursion condition 3\n",
        "\t\tans = min(1 + change(value - coinValue[i]), ans)\n",
        "\n",
        "\tmemo[value] = ans\n",
        "\treturn ans\n",
        "\n",
        "\n",
        "\n",
        "print(change(V))"
      ],
      "execution_count": null,
      "outputs": [
        {
          "output_type": "stream",
          "text": [
            "3\n"
          ],
          "name": "stdout"
        }
      ]
    },
    {
      "cell_type": "code",
      "metadata": {
        "id": "3P8o4Gnahpd2",
        "colab": {
          "base_uri": "https://localhost:8080/"
        },
        "outputId": "006a1f38-6d62-48e1-8f2e-532145ac4c3f"
      },
      "source": [
        "#背包貪婪法解答\n",
        "\n",
        "\n",
        "# 每个商品元组表示（价格，重量） \n",
        "goods = [(17000, 5), (35000, 1), (60000, 4), (9000, 3), (20000, 2)] \n",
        "# 我们需要对商品首先进行排序，当然这里是排好序的 \n",
        "goods.sort(key=lambda x: x[0]/x[1], reverse=True) \n",
        "  \n",
        "# w 表示背包的容量 \n",
        "def fractional_backpack(goods, w): \n",
        " # m 表示每个商品拿走多少个 \n",
        " total_v = 0 \n",
        " m = [0 for _ in range(len(goods))] \n",
        " for i, (prize, weight) in enumerate(goods): \n",
        "    if w >= weight: \n",
        "     m[i] = 1 \n",
        "     total_v += prize \n",
        "     w -= weight \n",
        "\n",
        "    else: \n",
        "     m[i] = w / weight\n",
        "     total_v += m[i]*prize \n",
        "     w = 0 \n",
        "     break \n",
        " return m, total_v \n",
        "  \n",
        "res1= fractional_backpack(goods, 10) \n",
        "print(res1) "
      ],
      "execution_count": null,
      "outputs": [
        {
          "output_type": "stream",
          "text": [
            "([1, 1, 1, 0.6, 0], 125200.0)\n"
          ],
          "name": "stdout"
        }
      ]
    },
    {
      "cell_type": "code",
      "metadata": {
        "colab": {
          "base_uri": "https://localhost:8080/"
        },
        "id": "F_eNVrGuChpG",
        "outputId": "70f6f7ec-936d-4765-c8ee-3754d60b8fc7"
      },
      "source": [
        "#背包DP法解答\n",
        "def bag(n,c,w,v):\n",
        "\tres=[[-1 for j in range(c+1)] for i in range(n+1)]\n",
        "\tfor j in range(c+1):\n",
        "\t\tres[0][j]=0\n",
        "\tfor i in range(1,n+1):\n",
        "\t\tfor j in range(1,c+1):\n",
        "\t\t\tres[i][j]=res[i-1][j]\n",
        "\t\t\tif j>=w[i-1] and res[i][j]<res[i-1][j-w[i-1]]+v[i-1]:\n",
        "\t\t\t\tres[i][j]=res[i-1][j-w[i-1]]+v[i-1]\n",
        "\treturn res\n",
        "\n",
        "def show(n,c,w,res):\n",
        "\tprint('最大價值為:',res[n][c])\n",
        "\tx=[False for i in range(n)]\n",
        "\tj=c\n",
        "\tfor i in range(1,n+1):\n",
        "\t\tif res[i][j]>res[i-1][j]:\n",
        "\t\t\tx[i-1]=True\n",
        "\t\t\tj-=w[i-1]\n",
        "\tprint('選擇的物品為:')\n",
        "\tfor i in range(n):\n",
        "\t\tif x[i]:\n",
        "\t\t\tprint('第',i,'個,',end='')\n",
        "\tprint('')\n",
        "\n",
        "if __name__=='__main__':\n",
        "\tn=5\n",
        "\tc=10\n",
        "\tw=[5,1,4,3,2,]\n",
        "\tv=[17000,35000,60000,9000,20000]\n",
        "\tres=bag(n,c,w,v)\n",
        "\tshow(n,c,w,res)"
      ],
      "execution_count": null,
      "outputs": [
        {
          "output_type": "stream",
          "text": [
            "最大價值為: 123999\n",
            "選擇的物品為:\n",
            "第 0 個,第 1 個,第 2 個,\n"
          ],
          "name": "stdout"
        }
      ]
    }
  ]
}