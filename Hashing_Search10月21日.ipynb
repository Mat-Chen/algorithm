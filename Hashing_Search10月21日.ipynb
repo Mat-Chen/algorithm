{
  "nbformat": 4,
  "nbformat_minor": 0,
  "metadata": {
    "colab": {
      "name": "Hashing Search10月21日.ipynb",
      "provenance": [],
      "collapsed_sections": [],
      "authorship_tag": "ABX9TyNxkGdQf5fyvS3sgGdHzvel",
      "include_colab_link": true
    },
    "kernelspec": {
      "name": "python3",
      "display_name": "Python 3"
    }
  },
  "cells": [
    {
      "cell_type": "markdown",
      "metadata": {
        "id": "view-in-github",
        "colab_type": "text"
      },
      "source": [
        "<a href=\"https://colab.research.google.com/github/Mat-Chen/algorithm/blob/master/Hashing_Search10%E6%9C%8821%E6%97%A5.ipynb\" target=\"_parent\"><img src=\"https://colab.research.google.com/assets/colab-badge.svg\" alt=\"Open In Colab\"/></a>"
      ]
    },
    {
      "cell_type": "code",
      "metadata": {
        "id": "5tC2peyTvDj_",
        "outputId": "743bd10f-1b1e-42d1-bce8-f9048a696c33",
        "colab": {
          "base_uri": "https://localhost:8080/",
          "height": 221
        }
      },
      "source": [
        "import random\n",
        "\n",
        "INDEXBOX=10\n",
        "MAXNUM=7\n",
        "\n",
        "def print_data(data,max_number):\n",
        "  print(\"\\t\",end=\"\")\n",
        "  for i in range(max_number):\n",
        "    print(\"[%2d]\"%data[i],end=\"\")\n",
        "  print()\n",
        "\n",
        "def create_table(num,index):\n",
        "  tmp=num%INDEXBOX\n",
        "  while True:\n",
        "    if index[tmp]==-1:\n",
        "      index[tmp]=num\n",
        "      break\n",
        "    else:\n",
        "      tmp=(tmp+1)%INDEXBOX \n",
        "\n",
        "\n",
        "index=[None]*INDEXBOX\n",
        "data=[None]*MAXNUM\n",
        "\n",
        "print(\"原始陣列值:\")\n",
        "for i in range(MAXNUM):\n",
        "  data[i]=random.randint(1,20)\n",
        "for i in range(INDEXBOX):\n",
        "  index[i]=-1\n",
        "print_data(data,MAXNUM)\n",
        "\n",
        "print(\"雜湊表內容:\")\n",
        "for i in range(MAXNUM):\n",
        "  create_table(data[i],index)\n",
        "  print(\" %2d=>\"%data[i],end=\"\")\n",
        "  print_data(index,INDEXBOX)\n",
        "\n",
        "print(\"完成雜湊表:\")\n",
        "print_data(index,INDEXBOX)\n",
        "\n"
      ],
      "execution_count": null,
      "outputs": [
        {
          "output_type": "stream",
          "text": [
            "原始陣列值:\n",
            "\t[ 7][18][17][13][18][11][13]\n",
            "雜湊表內容:\n",
            "  7=>\t[-1][-1][-1][-1][-1][-1][-1][ 7][-1][-1]\n",
            " 18=>\t[-1][-1][-1][-1][-1][-1][-1][ 7][18][-1]\n",
            " 17=>\t[-1][-1][-1][-1][-1][-1][-1][ 7][18][17]\n",
            " 13=>\t[-1][-1][-1][13][-1][-1][-1][ 7][18][17]\n",
            " 18=>\t[18][-1][-1][13][-1][-1][-1][ 7][18][17]\n",
            " 11=>\t[18][11][-1][13][-1][-1][-1][ 7][18][17]\n",
            " 13=>\t[18][11][-1][13][13][-1][-1][ 7][18][17]\n",
            "完成雜湊表:\n",
            "\t[18][11][-1][13][13][-1][-1][ 7][18][17]\n"
          ],
          "name": "stdout"
        }
      ]
    },
    {
      "cell_type": "code",
      "metadata": {
        "id": "fB1v-pdLHRhs",
        "outputId": "7f2e8352-b7d8-4708-9f42-451c66c68e39",
        "colab": {
          "base_uri": "https://localhost:8080/",
          "height": 218
        }
      },
      "source": [
        "import random\n",
        "\n",
        "INDEXBOX=10\n",
        "MAXNUM=7\n",
        "\n",
        "def print_data(data,max_number):\n",
        "  print(\"\\t\",end=\"\")\n",
        "  for i in range(max_number):\n",
        "    print(\"[%2d]\"%data[i],end=\"\")\n",
        "  print()\n",
        "\n",
        "def create_table(num,index):\n",
        "  tmp=num%INDEXBOX\n",
        "  while True:\n",
        "    if index[tmp]==-1:\n",
        "      index[tmp]=num\n",
        "      break\n",
        "    else:\n",
        "      for i in range(1,10):   #平方探測\n",
        "       tmp=(tmp+i**2)%INDEXBOX \n",
        "\n",
        "\n",
        "index=[None]*INDEXBOX\n",
        "data=[None]*MAXNUM\n",
        "\n",
        "print(\"原始陣列值:\")\n",
        "for i in range(MAXNUM):\n",
        "  data[i]=random.randint(1,20)\n",
        "for i in range(INDEXBOX):\n",
        "  index[i]=-1\n",
        "print_data(data,MAXNUM)\n",
        "\n",
        "print(\"雜湊表內容:\")\n",
        "for i in range(MAXNUM):\n",
        "  create_table(data[i],index)\n",
        "  print(\" %2d=>\"%data[i],end=\"\")\n",
        "  print_data(index,INDEXBOX)\n",
        "\n",
        "print(\"完成雜湊表:\")\n",
        "print_data(index,INDEXBOX)\n",
        "\n",
        "\n",
        "\n"
      ],
      "execution_count": 12,
      "outputs": [
        {
          "output_type": "stream",
          "text": [
            "原始陣列值:\n",
            "\t[ 1][13][14][20][ 2][ 3][ 1]\n",
            "雜湊表內容:\n",
            "  1=>\t[-1][ 1][-1][-1][-1][-1][-1][-1][-1][-1]\n",
            " 13=>\t[-1][ 1][-1][13][-1][-1][-1][-1][-1][-1]\n",
            " 14=>\t[-1][ 1][-1][13][14][-1][-1][-1][-1][-1]\n",
            " 20=>\t[20][ 1][-1][13][14][-1][-1][-1][-1][-1]\n",
            "  2=>\t[20][ 1][ 2][13][14][-1][-1][-1][-1][-1]\n",
            "  3=>\t[20][ 1][ 2][13][14][-1][-1][-1][ 3][-1]\n",
            "  1=>\t[20][ 1][ 2][13][14][-1][ 1][-1][ 3][-1]\n",
            "完成雜湊表:\n",
            "\t[20][ 1][ 2][13][14][-1][ 1][-1][ 3][-1]\n"
          ],
          "name": "stdout"
        }
      ]
    },
    {
      "cell_type": "code",
      "metadata": {
        "id": "NPW30aPr6vdF",
        "outputId": "6f649b6e-afa4-4282-e015-1b377570d27f",
        "colab": {
          "base_uri": "https://localhost:8080/",
          "height": 218
        }
      },
      "source": [
        "import random\n",
        "\n",
        "INDEXBOX=10\n",
        "MAXNUM=7\n",
        "\n",
        "def print_data(data,max_number):\n",
        "  print(\"\\t\",end=\"\")\n",
        "  for i in range(max_number):\n",
        "    print(\"[%2d]\"%data[i],end=\"\")\n",
        "  print()\n",
        "\n",
        "def create_table(num,index):\n",
        "  tmp=num%INDEXBOX\n",
        "  while True:\n",
        "    if index[tmp]==-1:\n",
        "      index[tmp]=num\n",
        "      break\n",
        "    else:\n",
        "      for i in range(1,10):\n",
        "       tmp=(tmp+2**i)%INDEXBOX  #再雜湊\n",
        "      \n",
        "\n",
        "\n",
        "index=[None]*INDEXBOX\n",
        "data=[None]*MAXNUM\n",
        "\n",
        "print(\"原始陣列值:\")\n",
        "for i in range(MAXNUM):\n",
        "  data[i]=random.randint(1,10)\n",
        "for i in range(INDEXBOX):\n",
        "  index[i]=-1\n",
        "print_data(data,MAXNUM)\n",
        "\n",
        "print(\"雜湊表內容:\")\n",
        "for i in range(MAXNUM):\n",
        "  create_table(data[i],index)\n",
        "  print(\" %2d=>\"%data[i],end=\"\")\n",
        "  print_data(index,INDEXBOX)\n",
        "\n",
        "print(\"完成雜湊表:\")\n",
        "print_data(index,INDEXBOX)"
      ],
      "execution_count": 5,
      "outputs": [
        {
          "output_type": "stream",
          "text": [
            "原始陣列值:\n",
            "\t[ 3][ 2][ 8][ 2][10][ 1][ 6]\n",
            "雜湊表內容:\n",
            "  3=>\t[-1][-1][-1][ 3][-1][-1][-1][-1][-1][-1]\n",
            "  2=>\t[-1][-1][ 2][ 3][-1][-1][-1][-1][-1][-1]\n",
            "  8=>\t[-1][-1][ 2][ 3][-1][-1][-1][-1][ 8][-1]\n",
            "  2=>\t[-1][-1][ 2][ 3][ 2][-1][-1][-1][ 8][-1]\n",
            " 10=>\t[10][-1][ 2][ 3][ 2][-1][-1][-1][ 8][-1]\n",
            "  1=>\t[10][ 1][ 2][ 3][ 2][-1][-1][-1][ 8][-1]\n",
            "  6=>\t[10][ 1][ 2][ 3][ 2][-1][ 6][-1][ 8][-1]\n",
            "完成雜湊表:\n",
            "\t[10][ 1][ 2][ 3][ 2][-1][ 6][-1][ 8][-1]\n"
          ],
          "name": "stdout"
        }
      ]
    }
  ]
}