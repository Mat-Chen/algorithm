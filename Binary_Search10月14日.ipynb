{
  "nbformat": 4,
  "nbformat_minor": 0,
  "metadata": {
    "colab": {
      "name": "Binary Search10月14日.ipynb",
      "provenance": [],
      "collapsed_sections": [],
      "authorship_tag": "ABX9TyPmeMUH688Pq5SodIefb3Fn",
      "include_colab_link": true
    },
    "kernelspec": {
      "name": "python3",
      "display_name": "Python 3"
    }
  },
  "cells": [
    {
      "cell_type": "markdown",
      "metadata": {
        "id": "view-in-github",
        "colab_type": "text"
      },
      "source": [
        "<a href=\"https://colab.research.google.com/github/Mat-Chen/algorithm/blob/master/Binary_Search10%E6%9C%8814%E6%97%A5.ipynb\" target=\"_parent\"><img src=\"https://colab.research.google.com/assets/colab-badge.svg\" alt=\"Open In Colab\"/></a>"
      ]
    },
    {
      "cell_type": "code",
      "metadata": {
        "id": "HeK9XPZ68X_X",
        "outputId": "0a15dc11-d55a-469b-fdea-e080bec37aa1",
        "colab": {
          "base_uri": "https://localhost:8080/",
          "height": 34
        }
      },
      "source": [
        "def binarySearch(arr,l,r,x):\n",
        "  if r >= l :\n",
        "    mid= l+(r-l)//2\n",
        "    if arr[mid]==x:\n",
        "      return mid\n",
        "    elif arr[mid]>x:\n",
        "      return binarySearch(arr,l,mid-l,x)\n",
        "    else:\n",
        "      return binarySearch(arr,mid+1,r,x)\n",
        "  else:\n",
        "    return-1\n",
        "arr=[5,8,9,15,30]\n",
        "x=9\n",
        "\n",
        "result =binarySearch(arr,0,len(arr)-1,x)\n",
        "if result != -1:\n",
        "  print(\"元素在索引%d\"%result)\n",
        "else:\n",
        "  print(\"陣列中找不到該元素\")"
      ],
      "execution_count": null,
      "outputs": [
        {
          "output_type": "stream",
          "text": [
            "元素在索引2\n"
          ],
          "name": "stdout"
        }
      ]
    },
    {
      "cell_type": "code",
      "metadata": {
        "id": "69hW3C5w_l5L",
        "outputId": "cf523592-6b28-4546-b37d-ee8e29f181ed",
        "colab": {
          "base_uri": "https://localhost:8080/",
          "height": 168
        }
      },
      "source": [
        "def binarySearch(arr,l,r,h):\n",
        "  if r >= l :\n",
        "    mid= l+(r-l)//2\n",
        "    if arr[mid]==h:\n",
        "      return mid\n",
        "    elif arr[mid]>h:\n",
        "      return binarySearch(arr,l,mid-l,h)\n",
        "    else:\n",
        "      return binarySearch(arr,mid+1,r,h)\n",
        "  else:\n",
        "    return-1\n",
        "arr=[]\n",
        "for i in range(5):\n",
        "  r = int(input(\"輸入值\"))\n",
        "  arr.append(r)\n",
        "print(arr)\n",
        "arr.sort()\n",
        "print(arr)\n",
        "h = int(input(\"輸入搜尋值\"))\n",
        "result =binarySearch(arr,0,len(arr)-1,h)\n",
        "if result != -1:\n",
        "  print(\"元素在索引%d\"%result)\n",
        "else:\n",
        "  print(\"陣列中找不到該元素\")"
      ],
      "execution_count": 9,
      "outputs": [
        {
          "output_type": "stream",
          "text": [
            "輸入值101\n",
            "輸入值5\n",
            "輸入值91\n",
            "輸入值66\n",
            "輸入值7\n",
            "[101, 5, 91, 66, 7]\n",
            "[5, 7, 66, 91, 101]\n",
            "輸入搜尋值101\n",
            "元素在索引4\n"
          ],
          "name": "stdout"
        }
      ]
    }
  ]
}