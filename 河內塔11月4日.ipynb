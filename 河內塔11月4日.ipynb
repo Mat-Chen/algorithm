{
  "nbformat": 4,
  "nbformat_minor": 0,
  "metadata": {
    "colab": {
      "name": "河內塔11月4日.ipynb",
      "provenance": [],
      "collapsed_sections": [],
      "authorship_tag": "ABX9TyMn7EeQCP7bz8IpjfJe7sQ7",
      "include_colab_link": true
    },
    "kernelspec": {
      "name": "python3",
      "display_name": "Python 3"
    }
  },
  "cells": [
    {
      "cell_type": "markdown",
      "metadata": {
        "id": "view-in-github",
        "colab_type": "text"
      },
      "source": [
        "<a href=\"https://colab.research.google.com/github/Mat-Chen/algorithm/blob/master/%E6%B2%B3%E5%85%A7%E5%A1%9411%E6%9C%884%E6%97%A5.ipynb\" target=\"_parent\"><img src=\"https://colab.research.google.com/assets/colab-badge.svg\" alt=\"Open In Colab\"/></a>"
      ]
    },
    {
      "cell_type": "code",
      "metadata": {
        "id": "hA5TvhcREyXt",
        "outputId": "adfe0a0e-ab56-495c-badd-02ba6fe2d93a",
        "colab": {
          "base_uri": "https://localhost:8080/"
        }
      },
      "source": [
        "x=0\n",
        "def hanoi(n, A, B, C): \n",
        "    global x\n",
        "    if n == 1:\n",
        "        x=x+1\n",
        "        print(str(n) + \"號圈：\" + A + \"→\" + C +\"執行次數%d\" %(x))\n",
        "      \n",
        "    else:\n",
        "        hanoi(n-1, A, C, B)\n",
        "        x=x+1\n",
        "        print(str(n) + \"號圈：\" + A + \"→\" + C+\"執行次數%d\" %(x))\n",
        "        hanoi(n-1, B, A, C)\n",
        "\n",
        "\n",
        "\n",
        "\n",
        "ringNum = int(input(\"請輸入圈圈數：\"))\n",
        "hanoi(ringNum, \"A\", \"B\", \"C\")\n"
      ],
      "execution_count": 8,
      "outputs": [
        {
          "output_type": "stream",
          "text": [
            "請輸入圈圈數：5\n",
            "1號圈：A→C執行次數1\n",
            "2號圈：A→B執行次數2\n",
            "1號圈：C→B執行次數3\n",
            "3號圈：A→C執行次數4\n",
            "1號圈：B→A執行次數5\n",
            "2號圈：B→C執行次數6\n",
            "1號圈：A→C執行次數7\n",
            "4號圈：A→B執行次數8\n",
            "1號圈：C→B執行次數9\n",
            "2號圈：C→A執行次數10\n",
            "1號圈：B→A執行次數11\n",
            "3號圈：C→B執行次數12\n",
            "1號圈：A→C執行次數13\n",
            "2號圈：A→B執行次數14\n",
            "1號圈：C→B執行次數15\n",
            "5號圈：A→C執行次數16\n",
            "1號圈：B→A執行次數17\n",
            "2號圈：B→C執行次數18\n",
            "1號圈：A→C執行次數19\n",
            "3號圈：B→A執行次數20\n",
            "1號圈：C→B執行次數21\n",
            "2號圈：C→A執行次數22\n",
            "1號圈：B→A執行次數23\n",
            "4號圈：B→C執行次數24\n",
            "1號圈：A→C執行次數25\n",
            "2號圈：A→B執行次數26\n",
            "1號圈：C→B執行次數27\n",
            "3號圈：A→C執行次數28\n",
            "1號圈：B→A執行次數29\n",
            "2號圈：B→C執行次數30\n",
            "1號圈：A→C執行次數31\n"
          ],
          "name": "stdout"
        }
      ]
    }
  ]
}