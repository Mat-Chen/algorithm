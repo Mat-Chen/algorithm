{
  "nbformat": 4,
  "nbformat_minor": 0,
  "metadata": {
    "colab": {
      "name": "「bubblesort.ipynb」的副本",
      "provenance": [],
      "collapsed_sections": [],
      "include_colab_link": true
    },
    "kernelspec": {
      "name": "python3",
      "display_name": "Python 3"
    }
  },
  "cells": [
    {
      "cell_type": "markdown",
      "metadata": {
        "id": "view-in-github",
        "colab_type": "text"
      },
      "source": [
        "<a href=\"https://colab.research.google.com/github/Mat-Chen/algorithm/blob/master/bubblesort_ipynb9%E6%9C%8830%E6%97%A5.ipynb\" target=\"_parent\"><img src=\"https://colab.research.google.com/assets/colab-badge.svg\" alt=\"Open In Colab\"/></a>"
      ]
    },
    {
      "cell_type": "markdown",
      "metadata": {
        "id": "32sgU0StMiof"
      },
      "source": [
        "Bubble sort (氣泡排序)"
      ]
    },
    {
      "cell_type": "code",
      "metadata": {
        "id": "esB_4fSeMLYJ",
        "outputId": "58dc8e80-4e88-428b-8a19-ce202add44f2",
        "colab": {
          "base_uri": "https://localhost:8080/",
          "height": 34
        }
      },
      "source": [
        "data = (2,1,5,9,77,34)  #在這個data裡輸入任意6個數字\n",
        "GG = []   #一個空的陣列準備裝輸入的數字\n",
        "for value in data:  #把data的數字用append存入\n",
        "    GG.append(value)\n",
        "def Bubble_Sort(a):\n",
        "    for i in range(1, len(GG)): #i從1開始數，數到GG的長度\n",
        "        for j in range(len(GG)-i):   # j數到GG的長度減i，因為i上面已經算過了\n",
        "            if GG[j] > GG[j+1]:   # 比較GG這個陣列裡面j位子跟j+1位子上數字的大小，如果GG[j]>GG[j+1]就執行下面那行\n",
        "                GG[j], GG[j+1] = GG[j+1], GG[j] #原本的位子是長GG[j],GG[j+1]這樣，可是上面比較過了，所以大的擺後面，變GG[j+1],GG[j]\n",
        "    return GG    #傳回去\n",
        "\n",
        "\n",
        "a = Bubble_Sort(a) #用上面定義好的程式跑a\n",
        "print(a)   #輸出a"
      ],
      "execution_count": 89,
      "outputs": [
        {
          "output_type": "stream",
          "text": [
            "[1, 2, 5, 9, 34, 77]\n"
          ],
          "name": "stdout"
        }
      ]
    },
    {
      "cell_type": "markdown",
      "metadata": {
        "id": "MOQ_aZKnM-wL"
      },
      "source": [
        "請加入註解，並將程式修改為加入六個數做氣泡排序\n"
      ]
    }
  ]
}